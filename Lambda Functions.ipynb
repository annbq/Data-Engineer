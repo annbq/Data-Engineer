{
 "cells": [
  {
   "cell_type": "markdown",
   "id": "fc3d5ddf",
   "metadata": {},
   "source": [
    "# Lambda Functions\n",
    "Learn how to define a Python function in one line!\n",
    "A function is an object that is able to accept some sort of input, possibly modify it, and return some sort of output.\n",
    "\n",
    "In Python, a lambda function is a one-line shorthand for function. A simple lambda function might look like this:\n",
    "add_two = lambda my_input: my_input + 2\n",
    "\n",
    "Let’s break this syntax down:\n",
    "\n",
    "The function is stored in a variable called add_two\n",
    "lambda declares that this is a lambda function (if you are familiar with normal Python functions, this is similar to how we use def to declare a function)\n",
    "my_input is what we call the input we are passing into add_two\n",
    "We are returning my_input plus 2 (with normal Python functions, we use the keyword return)\n",
    "\n"
   ]
  },
  {
   "cell_type": "code",
   "execution_count": 1,
   "id": "a1694a5b",
   "metadata": {},
   "outputs": [
    {
     "name": "stdout",
     "output_type": "stream",
     "text": [
      "True\n",
      "True\n",
      "False\n"
     ]
    }
   ],
   "source": [
    "#Write your lambda function here\n",
    "contains_a = lambda  word: \"a\" in word\n",
    "print(contains_a(\"banana\"))\n",
    "print(contains_a(\"apple\"))\n",
    "print(contains_a(\"cherry\"))\n",
    "\n"
   ]
  },
  {
   "cell_type": "code",
   "execution_count": 2,
   "id": "c4095dff",
   "metadata": {},
   "outputs": [
    {
     "name": "stdout",
     "output_type": "stream",
     "text": [
      "False\n",
      "True\n"
     ]
    }
   ],
   "source": [
    "#Write your lambda function here\n",
    "long_string = lambda str:len(str)>12\n",
    "\n",
    "print(long_string(\"short\"))\n",
    "print(long_string(\"photosynthesis\"))"
   ]
  },
  {
   "cell_type": "code",
   "execution_count": 3,
   "id": "962256de",
   "metadata": {},
   "outputs": [
    {
     "name": "stdout",
     "output_type": "stream",
     "text": [
      "True\n",
      "False\n"
     ]
    }
   ],
   "source": [
    "#Write your lambda function here\n",
    "ends_in_a = lambda str:str[-1]==\"a\"\n",
    "\n",
    "print(ends_in_a(\"data\"))\n",
    "print(ends_in_a(\"aardvark\"))\n"
   ]
  },
  {
   "cell_type": "code",
   "execution_count": 4,
   "id": "d8c1bfa7",
   "metadata": {},
   "outputs": [
    {
     "name": "stdout",
     "output_type": "stream",
     "text": [
      "30\n",
      "0\n"
     ]
    }
   ],
   "source": [
    "#Write your lambda function here\n",
    "double_or_zero = lambda num: num*2 if (num>10) else 0\n",
    "print(double_or_zero(15))\n",
    "print(double_or_zero(5))"
   ]
  },
  {
   "cell_type": "code",
   "execution_count": 5,
   "id": "ded38269",
   "metadata": {},
   "outputs": [
    {
     "name": "stdout",
     "output_type": "stream",
     "text": [
      "even\n",
      "odd\n"
     ]
    }
   ],
   "source": [
    "#Write your lambda function here\n",
    "\n",
    "even_or_odd = lambda num:\"even\" if num%2==0 else \"odd\"\n",
    "print(even_or_odd(10))\n",
    "print(even_or_odd(5))"
   ]
  },
  {
   "cell_type": "code",
   "execution_count": 6,
   "id": "8953bd97",
   "metadata": {},
   "outputs": [
    {
     "name": "stdout",
     "output_type": "stream",
     "text": [
      "multiple of three\n",
      "not a multiple\n"
     ]
    }
   ],
   "source": [
    "#Write your lambda function here\n",
    "multiple_of_three = lambda num:\"multiple of three\" if num%3==0 else \"not a multiple\"\n",
    "print(multiple_of_three(9))\n",
    "print(multiple_of_three(10))\n"
   ]
  },
  {
   "cell_type": "code",
   "execution_count": 7,
   "id": "1c99a781",
   "metadata": {},
   "outputs": [
    {
     "name": "stdout",
     "output_type": "stream",
     "text": [
      "I liked this movie\n",
      "This movie was not very good\n"
     ]
    }
   ],
   "source": [
    "#Write your lambda function here\n",
    "rate_movie = lambda rating:\"I liked this movie\" if rating > 8.5 else \"This movie was not very good\" \n",
    "\n",
    "print(rate_movie(9.2))\n",
    "print(rate_movie(7.2))\n"
   ]
  },
  {
   "cell_type": "code",
   "execution_count": 8,
   "id": "12e15b1c",
   "metadata": {},
   "outputs": [
    {
     "name": "stdout",
     "output_type": "stream",
     "text": [
      "3\n",
      "4\n"
     ]
    }
   ],
   "source": [
    "#Write your lambda function here\n",
    "ones_place = lambda num:num%10\n",
    "\n",
    "print(ones_place(123))\n",
    "print(ones_place(4))\n",
    "\n"
   ]
  },
  {
   "cell_type": "code",
   "execution_count": 9,
   "id": "02cd802c",
   "metadata": {},
   "outputs": [
    {
     "name": "stdout",
     "output_type": "stream",
     "text": [
      "50\n",
      "18\n"
     ]
    }
   ],
   "source": [
    "#Write your lambda function here\n",
    "double_square = lambda num:2 * num * num\n",
    "\n",
    "print(double_square(5))\n",
    "print(double_square(3))"
   ]
  },
  {
   "cell_type": "code",
   "execution_count": 10,
   "id": "f51b7ba3",
   "metadata": {},
   "outputs": [
    {
     "name": "stdout",
     "output_type": "stream",
     "text": [
      "6\n",
      "108\n"
     ]
    }
   ],
   "source": [
    "import random\n",
    "#Write your lambda function here\n",
    "add_random = lambda num: num + random.randint(1, 10)\n",
    "print(add_random(5))\n",
    "print(add_random(100))"
   ]
  },
  {
   "cell_type": "code",
   "execution_count": null,
   "id": "805eac1f",
   "metadata": {},
   "outputs": [],
   "source": []
  }
 ],
 "metadata": {
  "kernelspec": {
   "display_name": "Python 3 (ipykernel)",
   "language": "python",
   "name": "python3"
  },
  "language_info": {
   "codemirror_mode": {
    "name": "ipython",
    "version": 3
   },
   "file_extension": ".py",
   "mimetype": "text/x-python",
   "name": "python",
   "nbconvert_exporter": "python",
   "pygments_lexer": "ipython3",
   "version": "3.11.5"
  }
 },
 "nbformat": 4,
 "nbformat_minor": 5
}
