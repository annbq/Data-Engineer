{
 "cells": [
  {
   "cell_type": "code",
   "execution_count": 2,
   "id": "702f909d",
   "metadata": {},
   "outputs": [
    {
     "name": "stdout",
     "output_type": "stream",
     "text": [
      "Hello World\n"
     ]
    }
   ],
   "source": [
    "print(\"Hello World\")"
   ]
  },
  {
   "cell_type": "markdown",
   "id": "814ffdec",
   "metadata": {},
   "source": [
    "Pandas is an essential tool for data engineers in large part because it is at the center of data science\n",
    "You can think of a DataFrame as a kind of table, similar to an Excel spreadsheet, but much more powerful.\n",
    "\n",
    "What will you learn?\n",
    "After this unit, you will be able to:\n",
    "\n",
    "Load, modify, and analyze a DataFrame\n",
    "Transform a Series of data\n",
    "Leverage lambda expressions to write custom programs to manipulate your DataFrames\n",
    "Perform SQL-like functions on multiple DataFrames\n"
   ]
  },
  {
   "cell_type": "markdown",
   "id": "e8ae223c",
   "metadata": {},
   "source": [
    "Create a DataFrame I\n",
    "A DataFrame is an object that stores data as rows and columns.\n",
    "You can manually create a DataFrame or fill it with data from a : CSV, an Excel spreadsheet, or a SQL query.\n",
    "\n",
    "DataFrames have rows and columns. \n",
    "   Each column has a name, which is a string. \n",
    "   Each row has an index, which is an integer. \n",
    "\n",
    " "
   ]
  },
  {
   "cell_type": "code",
   "execution_count": 4,
   "id": "66ddd2d3",
   "metadata": {},
   "outputs": [
    {
     "name": "stdout",
     "output_type": "stream",
     "text": [
      "   Product ID Product Name  Color\n",
      "0           1      t-shirt   blue\n",
      "1           2      t-shirt  green\n",
      "2           3        skirt    red\n",
      "3           4        skirt  black\n"
     ]
    }
   ],
   "source": [
    "import pandas as pd\n",
    "\n",
    "df1 = pd.DataFrame({\n",
    "  'Product ID': [1, 2, 3, 4],\n",
    "  # add Product Name and Color here\n",
    "  'Product Name' : ['t-shirt','t-shirt','skirt','skirt'],\n",
    "  'Color':['blue','green','red','black']\n",
    "})\n",
    "\n",
    "print(df1)"
   ]
  },
  {
   "cell_type": "markdown",
   "id": "8f892fb9",
   "metadata": {},
   "source": [
    "#You can also add data using lists.\n",
    "For example, you can pass in a list of lists, where each one represents a row of data. Use the keyword argument columns to pass a list of column names.\n",
    "\n",
    "\n"
   ]
  },
  {
   "cell_type": "code",
   "execution_count": 5,
   "id": "c8ce47f6",
   "metadata": {},
   "outputs": [],
   "source": [
    "df2 = pd.DataFrame([\n",
    "    ['John Smith', '123 Main St.', 34],\n",
    "    ['Jane Doe', '456 Maple Ave.', 28],\n",
    "    ['Joe Schmo', '789 Broadway', 51]\n",
    "    ],\n",
    "    columns=['name', 'address', 'age'])"
   ]
  },
  {
   "cell_type": "code",
   "execution_count": 6,
   "id": "14121bb2",
   "metadata": {},
   "outputs": [
    {
     "name": "stdout",
     "output_type": "stream",
     "text": [
      "         name         address  age\n",
      "0  John Smith    123 Main St.   34\n",
      "1    Jane Doe  456 Maple Ave.   28\n",
      "2   Joe Schmo    789 Broadway   51\n"
     ]
    }
   ],
   "source": [
    "print(df2)"
   ]
  },
  {
   "cell_type": "markdown",
   "id": "520f5daf",
   "metadata": {},
   "source": [
    "Comma Separated Variables (CSV)\n",
    "One of the most common formats for big datasets is the CSV.\n",
    "Loading and Saving CSVs\n",
    "\n",
    "When you have data in a CSV, you can load it into a DataFrame in Pandas using .read_csv():\n",
    "pd.read_csv('my-csv-file.csv')\n",
    "We can also save data to a CSV, using .to_csv().\n",
    "df.to_csv('new-csv-file.csv')\n"
   ]
  },
  {
   "cell_type": "code",
   "execution_count": 10,
   "id": "e85f7faa",
   "metadata": {},
   "outputs": [
    {
     "name": "stdout",
     "output_type": "stream",
     "text": [
      "   id name\n",
      "0   1  'A'\n"
     ]
    }
   ],
   "source": [
    "import pandas as pd\n",
    "df = pd.read_csv('sample.csv')\n",
    "\n",
    "print(df)\n"
   ]
  },
  {
   "cell_type": "markdown",
   "id": "172b1f7d",
   "metadata": {},
   "source": [
    "Inspect a DataFrame\n",
    "When we load a new DataFrame from a CSV, we want to know what it looks like.\n",
    "The method .head() gives the first 5 rows of a DataFrame.\n",
    "\n",
    "If you want to see more rows, you can pass in the positional argument n. For example, df.head(10) would show the first 10 rows.\n",
    "\n",
    "The method df.info() gives some statistics for each column.\n",
    "\n",
    "import pandas as pd\n",
    "\n",
    "#load the CSV below:\n",
    "\n",
    "df = pd.read_csv('imdb.csv')\n",
    "\n",
    "print(df.head())\n",
    "\n",
    "print(df.info())\n"
   ]
  },
  {
   "cell_type": "markdown",
   "id": "7f70e90b",
   "metadata": {},
   "source": [
    "Select Columns"
   ]
  }
 ],
 "metadata": {
  "kernelspec": {
   "display_name": "Python 3 (ipykernel)",
   "language": "python",
   "name": "python3"
  },
  "language_info": {
   "codemirror_mode": {
    "name": "ipython",
    "version": 3
   },
   "file_extension": ".py",
   "mimetype": "text/x-python",
   "name": "python",
   "nbconvert_exporter": "python",
   "pygments_lexer": "ipython3",
   "version": "3.11.5"
  }
 },
 "nbformat": 4,
 "nbformat_minor": 5
}
